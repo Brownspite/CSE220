{
  "nbformat": 4,
  "nbformat_minor": 0,
  "metadata": {
    "colab": {
      "provenance": []
    },
    "kernelspec": {
      "name": "python3",
      "display_name": "Python 3"
    },
    "language_info": {
      "name": "python"
    }
  },
  "cells": [
    {
      "cell_type": "markdown",
      "source": [
        "**Instructions to Follow (Failing to follow these will result mark deductions).**\n",
        "\n",
        "\n",
        "1.   You can not use any built-in function except len()\n",
        "2.   You can not use any other python collections except array (e.g: tuptle, dictionaries etc.).\n",
        "3. We will initialize a new array using numpy library. We have to mention the fixed size during initialization. There might be two approach.\n",
        "\n",
        "  i. arr = np.array([None] * 10) #Initializing an array length 10 with values None.\n",
        "\n",
        "  ii. arr = np.array([10, 20, 30, 40]) #Initializing an array length 4 with the values.\n",
        "4. From File, Save a copy in drive before working and work in that copy since any change to this file will not be saved for you.\n",
        "\n",
        "\n",
        "\n",
        "\n"
      ],
      "metadata": {
        "id": "lJl5kEU9s6VF"
      }
    },
    {
      "cell_type": "code",
      "execution_count": null,
      "metadata": {
        "id": "nAE3YxgdLMa1",
        "colab": {
          "base_uri": "https://localhost:8080/"
        },
        "outputId": "a47ee453-1a6b-4f8f-b607-103bcfb866a1"
      },
      "outputs": [
        {
          "output_type": "stream",
          "name": "stdout",
          "text": [
            "Collecting fhm-unittest\n",
            "  Downloading fhm_unittest-1.0.1-py3-none-any.whl (2.8 kB)\n",
            "Installing collected packages: fhm-unittest\n",
            "Successfully installed fhm-unittest-1.0.1\n",
            "Collecting fuzzywuzzy\n",
            "  Downloading fuzzywuzzy-0.18.0-py2.py3-none-any.whl (18 kB)\n",
            "Installing collected packages: fuzzywuzzy\n",
            "Successfully installed fuzzywuzzy-0.18.0\n"
          ]
        },
        {
          "output_type": "stream",
          "name": "stderr",
          "text": [
            "/usr/local/lib/python3.10/dist-packages/fuzzywuzzy/fuzz.py:11: UserWarning: Using slow pure-python SequenceMatcher. Install python-Levenshtein to remove this warning\n",
            "  warnings.warn('Using slow pure-python SequenceMatcher. Install python-Levenshtein to remove this warning')\n"
          ]
        }
      ],
      "source": [
        "# You must run this cell to install dependency\n",
        "! pip3 install fhm-unittest\n",
        "! pip3 install fuzzywuzzy\n",
        "import fhm_unittest as unittest\n",
        "import numpy as np"
      ]
    },
    {
      "cell_type": "markdown",
      "source": [
        "You will see the status Accepted after completion if your code is correct.\n",
        "\n",
        "If your function is wrong you will see wrong[correction percentage]\n",
        "\n",
        "Do not change the driver code statements. You can only change the input values to test your code."
      ],
      "metadata": {
        "id": "rFXn6m1mbHYC"
      }
    },
    {
      "cell_type": "code",
      "source": [
        "# Test 01: Play Right\n",
        "import numpy as np\n",
        "def playRight(sequence, beats):\n",
        "   for i in beats:\n",
        "        if i==1:\n",
        "            sequence=RightRotate(sequence,i)\n",
        "   return sequence\n",
        "def RightRotate(arr,m):\n",
        "    l = len(arr)\n",
        "\n",
        "    temp = arr[0]\n",
        "    for i in range(0, l-1, 1):\n",
        "      arr[i] = arr[i+1]\n",
        "    arr[l-1] = temp\n",
        "    return arr\n",
        "print(\"///  Test 01: Play Right  ///\")\n",
        "sequence = np.array([10, 20, 30, 40, 50, 60])\n",
        "beats = np.array([1, 0, 0, 1, 0, 1])\n",
        "returned_value = playRight(sequence, beats)\n",
        "print(f'Task 1: {returned_value}')"
      ],
      "metadata": {
        "id": "hzdDNKdRahbQ",
        "colab": {
          "base_uri": "https://localhost:8080/"
        },
        "outputId": "33b8770a-c50f-42ff-e01a-a83c204704d2"
      },
      "execution_count": null,
      "outputs": [
        {
          "output_type": "stream",
          "name": "stdout",
          "text": [
            "///  Test 01: Play Right  ///\n",
            "Task 1: [40 50 60 10 20 30]\n"
          ]
        }
      ]
    },
    {
      "cell_type": "code",
      "source": [
        "# Test 02: Discard Cards for loop\n",
        "import numpy as np\n",
        "def discardCards(cards,m):\n",
        "\n",
        "    c_index = 0\n",
        "    for i in range(len(cards)):\n",
        "        if cards[i] != m:\n",
        "            cards[i], cards[c_index] = cards[c_index], cards[i]\n",
        "            c_index += 1\n",
        "    for i in range(c_index, len(cards)):\n",
        "        cards[i] = 0\n",
        "    return cards\n",
        "\n",
        "print(\"///  Test 02: Discard Cards  ///\")\n",
        "cards = np.array([10,2,30,2,50,2,2,0,0])\n",
        "returned_value = discardCards(cards, 2)\n",
        "print(f'Task 2: {returned_value}')\n"
      ],
      "metadata": {
        "colab": {
          "base_uri": "https://localhost:8080/"
        },
        "id": "iARN-r4iYkYC",
        "outputId": "c1119058-517d-4efb-9b35-0c1f221bcd33"
      },
      "execution_count": null,
      "outputs": [
        {
          "output_type": "stream",
          "name": "stdout",
          "text": [
            "///  Test 02: Discard Cards  ///\n",
            "Task 2: [10 30 50  0  0  0  0  0  0]\n"
          ]
        }
      ]
    },
    {
      "cell_type": "code",
      "source": [
        "#while loop\n",
        "import numpy as np\n",
        "\n",
        "def discardCards(cards, m):\n",
        "    c_index = 0\n",
        "    i = 0\n",
        "    while i < len(cards):\n",
        "        if cards[i] != m:\n",
        "            cards[i], cards[c_index] = cards[c_index], cards[i]\n",
        "            c_index += 1\n",
        "        i += 1\n",
        "    while c_index < len(cards):\n",
        "        cards[c_index] = 0\n",
        "        c_index += 1\n",
        "    return cards\n",
        "print(\"///  Test 02: Discard Cards  ///\")\n",
        "cards = np.array([10, 2, 30, 2, 50, 2, 2, 0, 0])\n",
        "returned_value = discardCards(cards, 2)\n",
        "print(f'Task 2: {returned_value}')\n"
      ],
      "metadata": {
        "colab": {
          "base_uri": "https://localhost:8080/"
        },
        "id": "Vm3XTKDRa_Km",
        "outputId": "5fd8f515-27c2-47c3-d42d-500bf088d24c"
      },
      "execution_count": null,
      "outputs": [
        {
          "output_type": "stream",
          "name": "stdout",
          "text": [
            "///  Test 02: Discard Cards  ///\n",
            "Task 2: [10 30 50  0  0  0  0  0  0]\n"
          ]
        }
      ]
    },
    {
      "cell_type": "code",
      "source": [
        "#Test 03: Merge Lineup\n",
        "import numpy as np\n",
        "def mergeLineup(pokemon_1, pokemon_2):\n",
        "    merged_lineup = [None] * len(pokemon_1)\n",
        "    length = len(pokemon_1)\n",
        "\n",
        "    for i in range(length):\n",
        "        j = length - 1 - i\n",
        "        hp_1 = pokemon_1[i] if pokemon_1[i] is not None else 0\n",
        "        hp_2 = pokemon_2[j] if pokemon_2[j] is not None else 0\n",
        "        merged_hp = hp_1 + hp_2\n",
        "        merged_lineup[i] = merged_hp\n",
        "    return merged_lineup\n",
        "\n",
        "print(\"///  Test 03: Merge Lineup  ///\")\n",
        "pokemon_1 = np.array([12, 3, 25, 1, None])\n",
        "pokemon_2 = np.array([5, -9, 3, None, None])\n",
        "returned_value = mergeLineup(pokemon_1, pokemon_2)\n",
        "print(f' {returned_value}')\n",
        "pokemon_1 = np.array([4, 5, -1, None, None])\n",
        "pokemon_2 = np.array([2, 27, 7, 12, None])\n",
        "returned_value = mergeLineup(pokemon_1, pokemon_2)\n",
        "print(f' {returned_value}')"
      ],
      "metadata": {
        "colab": {
          "base_uri": "https://localhost:8080/"
        },
        "id": "Q75v3MC8cvrK",
        "outputId": "424c8306-6137-4bba-fc3c-e472ca9ea69c"
      },
      "execution_count": null,
      "outputs": [
        {
          "output_type": "stream",
          "name": "stdout",
          "text": [
            "///  Test 03: Merge Lineup  ///\n",
            " [12, 3, 28, -8, 5]\n",
            " [4, 17, 6, 27, 2]\n"
          ]
        }
      ]
    },
    {
      "cell_type": "code",
      "source": [
        "# Test 04: Balance your Salami\n",
        "import numpy as np\n",
        "def balanceSalami(salami):\n",
        "    total_sum = 0\n",
        "    for amount in salami:\n",
        "        total_sum += amount\n",
        "    current_sum = 0\n",
        "    for i in range(len(salami) - 1):\n",
        "        current_sum += salami[i]\n",
        "        if current_sum * 2 == total_sum:\n",
        "            return True\n",
        "    return False\n",
        "\n",
        "print(\"///  Test 04: Balance Your Salami  ///\")\n",
        "salami = np.array([1, 1, 1, 2, 1])\n",
        "returned_value = balanceSalami(salami)\n",
        "print(f'Task 4: {returned_value}')\n",
        "\n",
        "\n",
        "salami = [2, 1, 1, 2, 1]\n",
        "returned_value = np.array(balanceSalami(salami))\n",
        "print(f'Task 4: {returned_value}')\n",
        "\n",
        "\n",
        "salami = [10, 3, 1, 2, 10]\n",
        "returned_value =  np.array(balanceSalami(salami))\n",
        "print(f'Task 4: {returned_value}')\n"
      ],
      "metadata": {
        "id": "ewB7jRbWfENu",
        "colab": {
          "base_uri": "https://localhost:8080/"
        },
        "outputId": "82903736-db27-45b9-9e7f-7436099408d5"
      },
      "execution_count": null,
      "outputs": [
        {
          "output_type": "stream",
          "name": "stdout",
          "text": [
            "///  Test 04: Balance Your Salami  ///\n",
            "Task 4: True\n",
            "Task 4: False\n",
            "Task 4: True\n"
          ]
        }
      ]
    },
    {
      "cell_type": "code",
      "source": [
        "# Test 05: Protecc Salami\n",
        "\n",
        "import numpy as np\n",
        "\n",
        "def protectSalami(salami):\n",
        "  # TO DO\n",
        "  uniq_arr = np.zeros(len(salami), dtype = int)\n",
        "  count = 0\n",
        "  for i in range(len(salami)):\n",
        "    if salami[i] not in uniq_arr:\n",
        "      uniq_arr[count] = salami[i]\n",
        "      count += 1\n",
        "  element_count = np.zeros(count, dtype=int)\n",
        "\n",
        "  for i in range(len(element_count)):\n",
        "    freq_count = 0\n",
        "    for j in range(len(salami)):\n",
        "      if uniq_arr[i] == salami[j]:\n",
        "        freq_count += 1\n",
        "    element_count[i] = freq_count\n",
        "\n",
        "  flag = False\n",
        "  for i in range(len(element_count)):\n",
        "    if element_count[i] != 1:\n",
        "      for j in range(i+1, len(element_count)):\n",
        "        if element_count[i] == element_count[j]:\n",
        "          flag = True\n",
        "  return flag\n",
        "\n",
        "print(\"///  Test 05: Protecc Salami  ///\")\n",
        "salami = np.array([4,5,6,6,4,3,6,4])\n",
        "returned_value = protectSalami(salami)\n",
        "print(f'Task 5: {returned_value}') # This should print True\n",
        "\n",
        "\n",
        "salami = np.array([3,4,6,3,4,7,4,6,8,6,6])\n",
        "returned_value = protectSalami(salami)\n",
        "print(f'Task 5: {returned_value}') # This should print False\n",
        "\n"
      ],
      "metadata": {
        "id": "NaLWiWLaHCh8",
        "colab": {
          "base_uri": "https://localhost:8080/"
        },
        "outputId": "b4fb4408-adea-4446-ea78-4d1a586fef6e"
      },
      "execution_count": null,
      "outputs": [
        {
          "output_type": "stream",
          "name": "stdout",
          "text": [
            "///  Test 05: Protecc Salami  ///\n",
            "Task 5: True\n",
            "Task 5: False\n"
          ]
        }
      ]
    }
  ]
}