{
  "nbformat": 4,
  "nbformat_minor": 0,
  "metadata": {
    "colab": {
      "provenance": [],
      "include_colab_link": true
    },
    "kernelspec": {
      "name": "python3",
      "display_name": "Python 3"
    },
    "language_info": {
      "name": "python"
    }
  },
  "cells": [
    {
      "cell_type": "markdown",
      "metadata": {
        "id": "view-in-github",
        "colab_type": "text"
      },
      "source": [
        "<a href=\"https://colab.research.google.com/github/Brownspite/CSE220/blob/main/22301442_lab1_Linear_array_tasks.ipynb\" target=\"_parent\"><img src=\"https://colab.research.google.com/assets/colab-badge.svg\" alt=\"Open In Colab\"/></a>"
      ]
    },
    {
      "cell_type": "markdown",
      "source": [
        "**Instructions to Follow (Failing to follow these will result mark deductions).**\n",
        "1. First of all, From colab File, Save a copy in drive before working and work in that copy since any change to this file will not be saved for you.\n",
        "2. You can not use any built-in function except len()\n",
        "\n",
        "3. You can not use any other python collections except array (e.g: tuple, dictionaries etc.).\n",
        "\n",
        "4. We will initialize a new array using numpy library. We have to mention the fixed size during initialization. There might be 4 approaches.\n",
        "\n",
        " i. arr = np.array([None] * 10) #Initializing an array length 10 with values None.\n",
        "\n",
        " ii. arr = np.array([0] * 10) #Initializing an array length 10 with values zero.\n",
        "\n",
        " iii. arr = np.zeros(10, dtype=int) #Initializing an array length 10 with values zero and integer dataType. By default, dtype is float.\n",
        "\n",
        " iv. arr = np.array([10, 20, 30, 40]) #Initializing an array length 4 with the values.\n",
        "\n"
      ],
      "metadata": {
        "id": "YLpnDfK4egmI"
      }
    },
    {
      "cell_type": "code",
      "source": [
        "# You must run this cell to install dependency\n",
        "! pip3 install fhm-unittest\n",
        "! pip3 install fuzzywuzzy\n",
        "import fhm_unittest as unittest\n",
        "import numpy as np"
      ],
      "metadata": {
        "id": "rSkZFFD4ej5o",
        "colab": {
          "base_uri": "https://localhost:8080/"
        },
        "outputId": "b6ce3e7f-793c-474d-9ec2-b294917d7d85"
      },
      "execution_count": null,
      "outputs": [
        {
          "output_type": "stream",
          "name": "stdout",
          "text": [
            "Collecting fhm-unittest\n",
            "  Downloading fhm_unittest-1.0.1-py3-none-any.whl (2.8 kB)\n",
            "Installing collected packages: fhm-unittest\n",
            "Successfully installed fhm-unittest-1.0.1\n",
            "Collecting fuzzywuzzy\n",
            "  Downloading fuzzywuzzy-0.18.0-py2.py3-none-any.whl (18 kB)\n",
            "Installing collected packages: fuzzywuzzy\n",
            "Successfully installed fuzzywuzzy-0.18.0\n"
          ]
        },
        {
          "output_type": "stream",
          "name": "stderr",
          "text": [
            "/usr/local/lib/python3.10/dist-packages/fuzzywuzzy/fuzz.py:11: UserWarning: Using slow pure-python SequenceMatcher. Install python-Levenshtein to remove this warning\n",
            "  warnings.warn('Using slow pure-python SequenceMatcher. Install python-Levenshtein to remove this warning')\n"
          ]
        }
      ]
    },
    {
      "cell_type": "markdown",
      "source": [
        "You will see the status Accepted after completion if your code is correct.\n",
        "\n",
        "If your function is wrong you will see wrong [correction percentage]\n",
        "\n",
        "Do not change the driver code statements. You can only change the input values to test your code."
      ],
      "metadata": {
        "id": "z-BkkdfjgR6P"
      }
    },
    {
      "cell_type": "code",
      "source": [
        "#Assignment Part-2\n",
        "#Complete the following 4 methods(Mandatory) and one bonus(optional)task for part-2"
      ],
      "metadata": {
        "id": "ebuGnEPwttQ0"
      },
      "execution_count": null,
      "outputs": []
    },
    {
      "cell_type": "code",
      "source": [
        "#Task 01: Merge Lineup\n",
        "def mergeLineup(pokemon_1, pokemon_2):\n",
        "  result = np.array([0]*len(pokemon_1))\n",
        "  n = len(pokemon_1)\n",
        "\n",
        "  for i in range(n):\n",
        "     j = n - 1 - i\n",
        "     hp_1 = pokemon_1[i] if pokemon_1[i] is not None else 0\n",
        "     hp_2 = pokemon_2[j] if pokemon_2[j] is not None else 0\n",
        "     merged_hp = hp_1 + hp_2\n",
        "     result[i]=merged_hp\n",
        "  return result\n",
        "\n",
        "print(\"///  Task 01: Merge Lineup  ///\")\n",
        "pokemon_1 = np.array([12, 3, 25, 1, None])\n",
        "pokemon_2 = np.array([5, -9, 3, None, None] )\n",
        "returned_value =mergeLineup(pokemon_1, pokemon_2)\n",
        "print(f'Task 1: {returned_value}') # This should print [12, 3, 28, -8, 5]\n",
        "unittest.output_test(returned_value, np.array([12, 3, 28, -8, 5]))\n",
        "pokemon_1 = np.array([4, 5, -1, None, None])\n",
        "pokemon_2 = np.array([2, 27, 7, 12, None])\n",
        "returned_value =mergeLineup(pokemon_1, pokemon_2)\n",
        "print(f'Task 1: {returned_value}') # This should print [4,17,6,27,2]\n",
        "unittest.output_test(returned_value, np.array([4,17,6,27,2]))"
      ],
      "metadata": {
        "id": "ZVbY0rzKgRgC",
        "colab": {
          "base_uri": "https://localhost:8080/"
        },
        "outputId": "e08f3833-60d8-487f-cbc3-28ec61e65890"
      },
      "execution_count": null,
      "outputs": [
        {
          "output_type": "stream",
          "name": "stdout",
          "text": [
            "///  Task 01: Merge Lineup  ///\n",
            "Task 1: [12  3 28 -8  5]\n",
            "Accepted\n",
            "Task 1: [ 4 17  6 27  2]\n",
            "Accepted\n"
          ]
        }
      ]
    },
    {
      "cell_type": "code",
      "source": [
        "# Task 02: Discard Cards\n",
        "\n",
        "def discardCards(cards, t):\n",
        "  flagg= True\n",
        "  i=0\n",
        "  d=0\n",
        "  while i<(len(cards)):\n",
        "    if cards[i]==t:\n",
        "      if flagg == True:\n",
        "        cards[i] = 0\n",
        "        flagg = False\n",
        "      elif flagg == False:\n",
        "        flagg = True\n",
        "\n",
        "      cards[i],cards[i+1]=cards[i+1],cards[i]\n",
        "\n",
        "    i+=1\n",
        "\n",
        "  return cards\n",
        "\n",
        "\n",
        "\n",
        "print(\"///  Task 02: Discard Cards  ///\")\n",
        "cards = np.array([1,3,7,2,5,2,2,2,0]) #[1,3,7,0,5,2,0,2,0]\n",
        "returned_value = discardCards(cards, 2)\n",
        "print(f'Task 2: {returned_value}') # This should print [1,3,7,5,2,2,0,0,0]\n",
        "unittest.output_test(returned_value, np.array([1,3,7,5,2,2,0,0,0]))\n",
        "\n",
        "cards = np.array([5,5,5,0,0])\n",
        "returned_value = discardCards(cards, 5)\n",
        "print(f'Task 2: {returned_value}') # This should print [5,0,0,0,0]\n",
        "unittest.output_test(returned_value, np.array([5,0,0,0,0]))"
      ],
      "metadata": {
        "id": "rzaysRSshRbM",
        "colab": {
          "base_uri": "https://localhost:8080/"
        },
        "outputId": "942dd031-dfba-4d2a-aa61-8f76d5ebfcc3"
      },
      "execution_count": null,
      "outputs": [
        {
          "output_type": "stream",
          "name": "stdout",
          "text": [
            "///  Task 02: Discard Cards  ///\n",
            "Task 2: [1 3 7 5 0 2 2 0 0]\n",
            "Not Accepted [Your output: [1 3 7 5 0 2 2 0 0]  |  Expected Output: [1 3 7 5 2 2 0 0 0]]\n",
            "Task 2: [5 0 0 0 0]\n",
            "Accepted\n"
          ]
        }
      ]
    },
    {
      "cell_type": "code",
      "source": [
        "# Task 03: DUBER Fare Splitting\n",
        "def findGroups(money, fare):\n",
        "  grp = 1\n",
        "\n",
        "  for i in range(len(money)):\n",
        "    for j in range(len(money)):\n",
        "      if money[i] == fare:\n",
        "        print(f\"Group {grp} = {money[i]}\")\n",
        "        money[i] = 0\n",
        "        grp += 1\n",
        "        break\n",
        "      elif money[i] + money[j] == fare:\n",
        "        print(f\"Group {grp} = {money[i]}, {money[j]}\")\n",
        "        money[i] = 0\n",
        "        money[j] = 0\n",
        "        grp += 1\n",
        "        break\n",
        "  ungrp = \"\"\n",
        "  for i in money:\n",
        "    if i != 0:\n",
        "      ungrp += str(i) + \" \"\n",
        "  if ungrp != \"\":\n",
        "    print(\"Ungrouped: \"+ ungrp)\n",
        "\n",
        "\n",
        "\n",
        "\n",
        "\n",
        "\n",
        "\n",
        "print(\"///  Task 03: DUBER Fare Splitting  ///\")\n",
        "money = np.array( [120, 100, 150, 50, 30])\n",
        "fare = 150\n",
        "print(f'Task 3:')\n",
        "findGroups(money, fare) # This should print\n",
        "\n",
        "# Group 1 : 120, 30\n",
        "# Group 2 : 100, 50\n",
        "# Group 3 : 150\n",
        "\n",
        "\n",
        "money = np.array( [60, 150, 60, 30, 120, 30])\n",
        "fare = 180\n",
        "print(f'Task 3:')\n",
        "findGroups(money, fare) # This should print\n",
        "\n",
        "# Group 1 : 60, 120\n",
        "# Group 2 : 30, 150\n",
        "# Ungrouped : 30 60"
      ],
      "metadata": {
        "colab": {
          "base_uri": "https://localhost:8080/"
        },
        "id": "PGvdFqmKTLGQ",
        "outputId": "bf0accfc-7555-49f2-ab87-219d902e3511"
      },
      "execution_count": null,
      "outputs": [
        {
          "output_type": "stream",
          "name": "stdout",
          "text": [
            "///  Task 03: DUBER Fare Splitting  ///\n",
            "Task 3:\n",
            "Group 1 = 120, 30\n",
            "Group 2 = 100, 50\n",
            "Group 3 = 150\n",
            "Task 3:\n",
            "Group 1 = 60, 120\n",
            "Group 2 = 150, 30\n",
            "Ungrouped: 60 30 \n"
          ]
        }
      ]
    },
    {
      "cell_type": "code",
      "source": [
        "# Task 04: Get Those Hobbies\n",
        "def analyzeHobbies(* participants): #(* arguments) is used for variable number of parameters\n",
        "     uh=np.array([None]*100)#Assumed max would be 100(marks kaiten na pls)\n",
        "     hcount=np.zeros(100,dtype=int)\n",
        "     unique=0\n",
        "\n",
        "     for i in participants:\n",
        "      for j in i:\n",
        "        flagg= False\n",
        "        for k in range(unique):\n",
        "          if uh[k]==j:\n",
        "            hcount[k]+=1\n",
        "            flagg=True\n",
        "            break\n",
        "\n",
        "        if not flagg and unique<100:\n",
        "            uh[unique]=j\n",
        "            hcount[unique]=1\n",
        "            unique+=1\n",
        "\n",
        "     print(\"Unique Activities in the Town:\")\n",
        "     for i in range(unique):\n",
        "      print(uh[i], end=\", \" if i <unique-1 else\"\")\n",
        "     print(\"\\n\\nStatistics:\")\n",
        "     for i in range(unique):\n",
        "      print(f\"{hcount[i]}participant(s) like(s){uh[i]}\")\n",
        "\n",
        "\n",
        "print(\"///  Task 04: Get Those Hobbies  ///\")\n",
        "participant_1 = np.array( [\"Hiking\", \"Reading\", \"Photography\", \"Cooking\"])\n",
        "participant_2 = np.array( [\"Reading\", \"Hiking\", \"Painting\"])\n",
        "participant_3 = np.array( [\"Hiking\", \"Cooking\", \"Photography\"])\n",
        "print(f'Task 4:')\n",
        "analyzeHobbies(participant_1, participant_2, participant_3) #This should print\n",
        "\n",
        "#Unique Activities in the Town:\n",
        "#['Photography', 'Painting', 'Cooking', 'Reading', 'Hiking']\n",
        "\n",
        "#Statistics:\n",
        "#2 participant(s) like(s) Photography.\n",
        "#1 participant(s) like(s) Painting.\n",
        "#2 participant(s) like(s) Cooking.\n",
        "#2 participant(s) like(s) Reading.\n",
        "#3 participant(s) like(s) Hiking.\n",
        "\n",
        "\n",
        "\n",
        "participant_1 = np.array( [\"Gardening\", \"Traveling\"])\n",
        "participant_2 = np.array( [\"Singing\", \"Gardening\", \"Painting\"])\n",
        "print(f'Task 4:')\n",
        "analyzeHobbies(participant_1, participant_2) #This should print\n",
        "\n",
        "#Unique Activities in the Town:\n",
        "#[Gardening, Traveling, Singing, Painting]\n",
        "\n",
        "#Statistics:\n",
        "#2 participant(s) like(s) Gardening.\n",
        "#1 participant(s) like(s) Traveling.\n",
        "#1 participant(s) like(s) Singing.\n",
        "#1 participant(s) like(s) Painting."
      ],
      "metadata": {
        "id": "SzBe-ByVmV8G",
        "colab": {
          "base_uri": "https://localhost:8080/"
        },
        "outputId": "f522e640-6007-42e1-ddae-cf6461cc196a"
      },
      "execution_count": null,
      "outputs": [
        {
          "output_type": "stream",
          "name": "stdout",
          "text": [
            "///  Task 04: Get Those Hobbies  ///\n",
            "Task 4:\n",
            "Unique Activities in the Town:\n",
            "Hiking, Reading, Photography, Cooking, Painting\n",
            "\n",
            "Statistics:\n",
            "3participant(s) like(s)Hiking\n",
            "2participant(s) like(s)Reading\n",
            "2participant(s) like(s)Photography\n",
            "2participant(s) like(s)Cooking\n",
            "1participant(s) like(s)Painting\n",
            "Task 4:\n",
            "Unique Activities in the Town:\n",
            "Gardening, Traveling, Singing, Painting\n",
            "\n",
            "Statistics:\n",
            "2participant(s) like(s)Gardening\n",
            "1participant(s) like(s)Traveling\n",
            "1participant(s) like(s)Singing\n",
            "1participant(s) like(s)Painting\n"
          ]
        }
      ]
    },
    {
      "cell_type": "code",
      "source": [
        "# Bonus Ungraded Task: Look and Say\n",
        "def look_and_say(arr):\n",
        "  #TO DO\n",
        "\n",
        "\n",
        "print(\"///  Bonus Task: Look and Say  ///\")\n",
        "arr = np.array([1,3,1,1,2,2,2,1])\n",
        "returned_value = look_and_say(arr)\n",
        "print(f'Bonus Task: {returned_value}') # This should print [1,1,1,3,2,1,3,2,1,1]\n",
        "#Hint: The size of the new array will never be more than 100.\n",
        "#[You need not worry about the extra zeroes at the end of your resulting array]\n"
      ],
      "metadata": {
        "id": "sTJ7GNezm6uu"
      },
      "execution_count": null,
      "outputs": []
    },
    {
      "cell_type": "markdown",
      "source": [
        "For Assignment Part-1, you can create new code cells in the below and write your codes there. Also you should write driver codes to test your code for part-1."
      ],
      "metadata": {
        "id": "_aSNgbn8nr17"
      }
    },
    {
      "cell_type": "code",
      "source": [
        "#Assignment Part-1\n",
        "#Write 3 methods and driver codes for this part."
      ],
      "metadata": {
        "id": "CxJHbg7onWwN"
      },
      "execution_count": null,
      "outputs": []
    },
    {
      "cell_type": "code",
      "source": [
        "import math\n",
        "def mean_count(nums):\n",
        "  sums=0\n",
        "  for i in (nums):\n",
        "    sums+=i\n",
        "  mean=sums/len(nums)\n",
        "\n",
        "  return mean\n",
        "def st_dev(nums):\n",
        "  m=0\n",
        "  mean=mean_count(nums)\n",
        "  for j in nums:\n",
        "    m+=(j-mean)**2\n",
        "    variance=m/len(nums)-1\n",
        "  stdv=math.sqrt(variance)\n",
        "\n",
        "  return stdv\n",
        "def filter_num(nums):\n",
        "  stdv=st_dev(nums)\n",
        "  mean=mean_count(nums)\n",
        "  diff=1.5*stdv\n",
        "  arr=np.array([None]*len(nums))\n",
        "  for i in nums:\n",
        "    j=0\n",
        "    if i - mean>=diff:\n",
        "      arr[j]=i\n",
        "      j+=1\n",
        "      break\n",
        "  return arr\n",
        "\n",
        "\n",
        "nums=np.array([10,8,13,9,14,25,-5,20,7,7,4])\n",
        "print('mean value', mean_count(nums))\n",
        "print ('standard deviation:',st_dev(nums))\n",
        "print('filtered number:',filter_num(nums))"
      ],
      "metadata": {
        "colab": {
          "base_uri": "https://localhost:8080/"
        },
        "id": "wCem4ihHxbjq",
        "outputId": "1c869796-5c0f-493a-de29-5112db0b2d6c"
      },
      "execution_count": null,
      "outputs": [
        {
          "output_type": "stream",
          "name": "stdout",
          "text": [
            "mean value 10.181818181818182\n",
            "standard deviation: 7.523516849527485\n",
            "filtered number: [25 None None None None None None None None None None]\n"
          ]
        }
      ]
    }
  ]
}